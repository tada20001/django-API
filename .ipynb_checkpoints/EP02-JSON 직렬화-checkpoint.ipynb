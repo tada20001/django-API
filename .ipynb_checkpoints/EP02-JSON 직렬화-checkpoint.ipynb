{
 "cells": [
  {
   "cell_type": "markdown",
   "metadata": {},
   "source": [
    "모든 프로그래밍 언어의 통신에서 데이터는 필히 문자열로 표현되어야만 한다.\n",
    "\n",
    "* 송신자 : 객체를 문자열로 변환하여, 데이터 전송 => 이를 직렬화 (Serialization) 라고 한다.\n",
    "* 수신자 : 수신한 문자열을 다시 객체로 변환하여, 활용 => 이를 비직렬화 혹은 역직렬화 (Deserialization) 라고 한다.\n",
    "\n",
    "각 언어에서 모두 지원하는 직렬화 포맷 (JSON, XML 등) 도 있고, 특정 언어에서만 지원하는 직렬화 포맷 (파이썬은 Pickle) 이 있다.\n",
    "\n",
    "## JSON\n",
    "보통의 웹애플리케이션에서는 일반적으로 웹브라우저가 주 클라이언트 프로그램이기 때문에, 주로 HTML 포맷으로 통신한다. 그런데, 최근의 API 서버에는 대개 JSON 포맷으로 통신을 수행한다. 따라서 항상 장고 API 뷰 함수에서는 최종적으로 JSON포맷의 문자열 응답을 해야 한다.\n",
    "\n",
    "* JSON 포맷 : 다른 언어/플랫폼과 통신할 때 주로 사용한다. 표준 라이브러리 json이 제공된다.\n",
    "    * pickle에 비해 직렬화를 지원하는 데이터타입의 수가 적다. 공통 데이터타입에 한해서만 직렬화를 지원한다.\n",
    "* PICKLE 포맷 : 파이썬 전용 포맷으로서 파이썬 시스템끼리 통신할 때 사용하지만, 최근 파이썬끼리 통신에 json포맷도 많이 사용한다. 표준 라이브러리 pickle이 제공된다.\n",
    "\n",
    "    * JSON에서 지원하지않는 파이썬 데이터타입을 지원한다.\n",
    "    * 파이썬 버전 특성을 탄다.\n",
    "\n",
    "다음과 같은 파이썬 객체가 있다면,"
   ]
  },
  {
   "cell_type": "code",
   "execution_count": null,
   "metadata": {},
   "outputs": [],
   "source": [
    "post_list = [\n",
    "    {'message': 'hello askdjango'},\n",
    "]"
   ]
  },
  {
   "cell_type": "code",
   "execution_count": null,
   "metadata": {},
   "outputs": [],
   "source": [
    "import json\n",
    "\n",
    "json_string = json.dumps(post_list)  # 데이터 전송을 위해 문자열로 직렬화\n",
    "json_string"
   ]
  },
  {
   "cell_type": "markdown",
   "metadata": {},
   "source": [
    "수신자는 이 수신한 문자열을 다시 객체로 변환하여 사용한다. 이를 **비직렬화** 혹은 역직렬화라고 한다."
   ]
  },
  {
   "cell_type": "code",
   "execution_count": null,
   "metadata": {},
   "outputs": [],
   "source": [
    "json.loads(json_string)"
   ]
  },
  {
   "cell_type": "markdown",
   "metadata": {},
   "source": [
    "수신자, 송신자 모두 파이썬을 사용한다면 JSON 직렬화와 유사한 방식으로 **PICKLE** 포맷의 문자열로 직렬화할 수 있다."
   ]
  },
  {
   "cell_type": "code",
   "execution_count": null,
   "metadata": {},
   "outputs": [],
   "source": [
    "import pickle\n",
    "\n",
    "pickle_data = pickle.dumps(post_list)\n",
    "pickle_data"
   ]
  },
  {
   "cell_type": "markdown",
   "metadata": {},
   "source": [
    "이를 다시 비직렬화하면..."
   ]
  },
  {
   "cell_type": "code",
   "execution_count": null,
   "metadata": {},
   "outputs": [],
   "source": [
    "pickle.loads(pickle_data)"
   ]
  },
  {
   "cell_type": "markdown",
   "metadata": {},
   "source": [
    "json/pickle 라이브러리는 파이썬 표준 라이브러리로 파이썬 표준 데이터 타입에 대한 직렬화/비직렬화를 수행해 준다. 이는 파이썬 표준 데이터 타입에 대해서는 각각의 타입에 대해서 직렬화/비직렬화 룰을 파이썬이 지원해 주고 있기 때문이다. \n",
    "\n",
    "하지만 **장고 Model/QuerySet과 같은 파이썬 언어 외부타입에 대해서는 파이썬의 json 모듈은 직렬화/비직렬화 Rule을 모르기에 직렬화가 불가하다.**\n",
    "\n",
    "이미 만들어둔 장고 프로젝트가 있다면, 장고 쉘을 통해 확인해 볼 수 있다. User 모델 인스턴스에 대해 JSON직렬화를 수행하면, TypeError가 발생하며 \"Objects of type 'User' is not JSON serializable.\" 메세지가 나온다.\n",
    "\n",
    "**이제 장고의 데이터타입에 대해 JSON 직렬화를 수행하는 방법에 대해 살펴본다.**"
   ]
  },
  {
   "cell_type": "markdown",
   "metadata": {},
   "source": [
    "## Django 프로젝트 기본 셋업 \n",
    "Jupyter Notebook에서 장고 프로젝트를 세팅하여 모델을 둘러보고 내역을 먼저 수행한다. 잘 수행되면 다음 코드와 같이 모델을 통해 DB를 쿼리할 수 있다."
   ]
  },
  {
   "cell_type": "code",
   "execution_count": 1,
   "metadata": {},
   "outputs": [],
   "source": [
    "# 최소한의 settings 설정\n",
    "import django\n",
    "import os\n",
    "\n",
    "SECRET_KEY = 'askdjango'    # 임의 문자열\n",
    "DATABASES = {\n",
    "    'default': {\n",
    "        'ENGINE': 'django.db.backends.sqlite3',\n",
    "        'NAME': ':memory:',\n",
    "    }\n",
    "}\n",
    "ROOT_URLCONF = '__main__'\n",
    "\n",
    "urls = []\n",
    "\n",
    "os.environ['DJANGO_SETTINGS_MODULE'] = '__main__'\n",
    "\n",
    "django.setup()"
   ]
  },
  {
   "cell_type": "code",
   "execution_count": 2,
   "metadata": {},
   "outputs": [
    {
     "data": {
      "text/plain": [
       "'2.2.5'"
      ]
     },
     "execution_count": 2,
     "metadata": {},
     "output_type": "execute_result"
    }
   ],
   "source": [
    "django.get_version()"
   ]
  },
  {
   "cell_type": "markdown",
   "metadata": {},
   "source": [
    "## Form 클래스를 정의해 보자"
   ]
  },
  {
   "cell_type": "code",
   "execution_count": 3,
   "metadata": {},
   "outputs": [],
   "source": [
    "from django import forms\n",
    "def add_validator(values):\n",
    "    if values % 2 == 0:\n",
    "        raise forms.ValidationError('내가 짝수라니!!')\n",
    "\n",
    "class QuizForm(forms.Form):\n",
    "    answer = forms.IntegerField(validators=[add_validator])"
   ]
  },
  {
   "cell_type": "code",
   "execution_count": 4,
   "metadata": {},
   "outputs": [],
   "source": [
    "data = {'answer': 10}"
   ]
  },
  {
   "cell_type": "code",
   "execution_count": 5,
   "metadata": {},
   "outputs": [],
   "source": [
    "form = QuizForm(data)"
   ]
  },
  {
   "cell_type": "markdown",
   "metadata": {},
   "source": [
    "answer 값이 짝수라서 유효성 검사 실패!!"
   ]
  },
  {
   "cell_type": "code",
   "execution_count": 6,
   "metadata": {},
   "outputs": [
    {
     "data": {
      "text/plain": [
       "False"
      ]
     },
     "execution_count": 6,
     "metadata": {},
     "output_type": "execute_result"
    }
   ],
   "source": [
    "form.is_valid()"
   ]
  },
  {
   "cell_type": "markdown",
   "metadata": {},
   "source": [
    "## Model 클래스를 정의해 보자"
   ]
  },
  {
   "cell_type": "code",
   "execution_count": 7,
   "metadata": {},
   "outputs": [],
   "source": [
    "from django.db import models\n",
    "\n",
    "class Post(models.Model):\n",
    "    title = models.CharField(max_length=100)\n",
    "    content = models.TextField()\n",
    "    created_at = models.DateTimeField(auto_now_add=True)\n",
    "    updated_at = models.DateTimeField(auto_now=True)\n",
    "    \n",
    "    class Meta:\n",
    "        app_label = 'api'  # 앱이 따로 없으므로 app label을 필히 지정해 줘야 한다.\n",
    "        \n",
    "    def __str__(self):\n",
    "        return self.title"
   ]
  },
  {
   "cell_type": "markdown",
   "metadata": {},
   "source": [
    "Jupyter Notebook에서만 장고 프로젝트를 운영하다보니 마이그레이션을 할 여건이 안되기 때문에 모델 클래스 내역대로 Raw SQL로 DB 데이블을 생성한다."
   ]
  },
  {
   "cell_type": "code",
   "execution_count": 8,
   "metadata": {},
   "outputs": [],
   "source": [
    "from django.db import connection\n",
    "\n",
    "table_name = Post._meta.db_table\n",
    "\n",
    "with connection.cursor() as cursor:\n",
    "    cursor.execute('''\n",
    "CREATE TABLE \"{}\"\n",
    "    (\"id\" integer NOT NULL PRIMARY KEY AUTOINCREMENT,\n",
    "     \"title\" varchar(100) NOT NULL,\n",
    "     \"content\" text NOT NULL,\n",
    "     \"created_at\" datetime NOT NULL,\n",
    "     \"updated_at\" datetime NOT NULL);\n",
    "'''.format(table_name))"
   ]
  },
  {
   "cell_type": "code",
   "execution_count": 20,
   "metadata": {},
   "outputs": [
    {
     "name": "stdout",
     "output_type": "stream",
     "text": [
      "('api_post',)\n",
      "('sqlite_sequence',)\n"
     ]
    }
   ],
   "source": [
    "with connection.cursor() as cursor:\n",
    "    cursor.execute('select name from sqlite_master where type = \"table\";')\n",
    "    for row in cursor.fetchall():\n",
    "        print(row)"
   ]
  },
  {
   "cell_type": "code",
   "execution_count": 10,
   "metadata": {},
   "outputs": [
    {
     "data": {
      "text/plain": [
       "<Post: 저녁 줄였는데 누구는 살 빠지고, 난 안 빠지고…이유는>"
      ]
     },
     "execution_count": 10,
     "metadata": {},
     "output_type": "execute_result"
    }
   ],
   "source": [
    "## 데이터 추가\n",
    "Post.objects.create(\n",
    "    title = \"횡단보도 보행자 없으면 우회전 가능?\",\n",
    "    content = \"교차로에서 우회전할 때 횡단 보도를 건너는 사람이 없다면 보행자 신호가 녹색이더라도 진입할 수 있을까요? 이 문제를 놓고 대법원과 경찰의 판단이 다른 상황입니다.\"\n",
    ")\n",
    "\n",
    "Post.objects.create(\n",
    "    title = \"'디지털세대, 아날로그에 빠지다'…아날로그 인기 이유는?\",\n",
    "    content = \"옛 방식을 고집하는 아날로그 공간들이 젊은 층을 중심으로 주목받고 있습니다.\"\n",
    ")\n",
    "Post.objects.create(\n",
    "    title='저녁 줄였는데 누구는 살 빠지고, 난 안 빠지고…이유는',\n",
    "    content='늦은 시간에 야식 먹으면 다 살로 간다고 하죠? 그래서 야식 증후군이란 말까지 생겼습니다. 또 아침은 많이 먹고 저녁은 되도록 적게 먹는 것이 다이어트의 지름길이라고 생각하기도 합니다. 이게 다 얼마나 맞는 말일까요?'\n",
    ")"
   ]
  },
  {
   "cell_type": "markdown",
   "metadata": {},
   "source": [
    "이제 DB에서 쿼리가 잘 된다."
   ]
  },
  {
   "cell_type": "code",
   "execution_count": 11,
   "metadata": {},
   "outputs": [
    {
     "data": {
      "text/plain": [
       "<QuerySet [<Post: 횡단보도 보행자 없으면 우회전 가능?>, <Post: '디지털세대, 아날로그에 빠지다'…아날로그 인기 이유는?>, <Post: 저녁 줄였는데 누구는 살 빠지고, 난 안 빠지고…이유는>]>"
      ]
     },
     "execution_count": 11,
     "metadata": {},
     "output_type": "execute_result"
    }
   ],
   "source": [
    "Post.objects.all()"
   ]
  },
  {
   "cell_type": "code",
   "execution_count": 12,
   "metadata": {},
   "outputs": [
    {
     "name": "stdout",
     "output_type": "stream",
     "text": [
      "1 횡단보도 보행자 없으면 우회전 가능? : 90 글자\n",
      "2 '디지털세대, 아날로그에 빠지다'…아날로그 인기 이유는? : 42 글자\n",
      "3 저녁 줄였는데 누구는 살 빠지고, 난 안 빠지고…이유는 : 121 글자\n"
     ]
    }
   ],
   "source": [
    "for post in Post.objects.all():\n",
    "    print(post.id, post.title, ':', len(post.content), '글자')"
   ]
  },
  {
   "cell_type": "markdown",
   "metadata": {},
   "source": [
    "## ModelForm 정의"
   ]
  },
  {
   "cell_type": "code",
   "execution_count": 21,
   "metadata": {},
   "outputs": [],
   "source": [
    "class PostForm(forms.ModelForm):\n",
    "    class Meta:\n",
    "        model = Post\n",
    "        fields = '__all__'"
   ]
  },
  {
   "cell_type": "code",
   "execution_count": 22,
   "metadata": {},
   "outputs": [
    {
     "data": {
      "text/plain": [
       "False"
      ]
     },
     "execution_count": 22,
     "metadata": {},
     "output_type": "execute_result"
    }
   ],
   "source": [
    "form = PostForm({'title': 'hello'})\n",
    "form.is_valid()"
   ]
  },
  {
   "cell_type": "code",
   "execution_count": 23,
   "metadata": {},
   "outputs": [
    {
     "data": {
      "text/plain": [
       "{'content': ['This field is required.']}"
      ]
     },
     "execution_count": 23,
     "metadata": {},
     "output_type": "execute_result"
    }
   ],
   "source": [
    "form.errors"
   ]
  },
  {
   "cell_type": "markdown",
   "metadata": {},
   "source": [
    "## 장고의 JSON 직렬화"
   ]
  },
  {
   "cell_type": "markdown",
   "metadata": {},
   "source": [
    "장고에서는 파이썬 표준 라이브러리 json 모듈을 그대로 쓰지 않고, django/core/serizliers/json.py의 DjangoJSONEncoder 클래스를 통한 직렬화를 수행한다.\n",
    "\n",
    "DjangoJSONEncoder는 json.JSONEncoder를 상속받았으며, 다음 타입에 대한 직렬화를 추가로 지원한다.\n",
    "\n",
    "* datetime.datetime\n",
    "* datetime.date\n",
    "* datetime.time\n",
    "* datetime.timedelta\n",
    "* decimal.Decimal, uuid.UUID\n",
    "\n",
    "그런데, 이는 파이썬 기본 데이터 타입에 대한 직렬화가 추가되었을 뿐, 장고 데이터 타입인 QuerySet과 Model 인스턴스에 대한 직렬화는 지원하지 않는다. 장고는 웹 애플리케이션을 만들기 위한 웹프레임워크이고 웹 애플리케이션 개발에서는 JSON직렬화할 일이 적긴 하다. 이 부분을 djangorestframework가 수행한다.\n",
    "\n",
    "우선 장고 기본에서 제공해주는 DjangoJSONEncoder를 실행해 본다."
   ]
  },
  {
   "cell_type": "code",
   "execution_count": 13,
   "metadata": {},
   "outputs": [],
   "source": [
    "import json\n",
    "from django.core.serializers.json import DjangoJSONEncoder"
   ]
  },
  {
   "cell_type": "code",
   "execution_count": 14,
   "metadata": {},
   "outputs": [
    {
     "data": {
      "text/plain": [
       "<QuerySet [<Post: 횡단보도 보행자 없으면 우회전 가능?>, <Post: '디지털세대, 아날로그에 빠지다'…아날로그 인기 이유는?>, <Post: 저녁 줄였는데 누구는 살 빠지고, 난 안 빠지고…이유는>]>"
      ]
     },
     "execution_count": 14,
     "metadata": {},
     "output_type": "execute_result"
    }
   ],
   "source": [
    "data = Post.objects.all()\n",
    "data"
   ]
  },
  {
   "cell_type": "markdown",
   "metadata": {},
   "source": [
    "이렇게 직렬화할 데이터를 QuerySet으로 준비한다. 그리고 직렬화를 수행해 본다.\n",
    "\n",
    "TypeError: Object of type 'QuerySet' is not JSON serializable 예외가 발생할 것이다."
   ]
  },
  {
   "cell_type": "code",
   "execution_count": 15,
   "metadata": {},
   "outputs": [
    {
     "ename": "TypeError",
     "evalue": "Object of type QuerySet is not JSON serializable",
     "output_type": "error",
     "traceback": [
      "\u001b[0;31m---------------------------------------------------------------------------\u001b[0m",
      "\u001b[0;31mTypeError\u001b[0m                                 Traceback (most recent call last)",
      "\u001b[0;32m<ipython-input-15-f8422d929d3d>\u001b[0m in \u001b[0;36m<module>\u001b[0;34m\u001b[0m\n\u001b[0;32m----> 1\u001b[0;31m \u001b[0mjson\u001b[0m\u001b[0;34m.\u001b[0m\u001b[0mdumps\u001b[0m\u001b[0;34m(\u001b[0m\u001b[0mdata\u001b[0m\u001b[0;34m,\u001b[0m \u001b[0mcls\u001b[0m\u001b[0;34m=\u001b[0m\u001b[0mDjangoJSONEncoder\u001b[0m\u001b[0;34m)\u001b[0m\u001b[0;34m\u001b[0m\u001b[0;34m\u001b[0m\u001b[0m\n\u001b[0m",
      "\u001b[0;32m~/anaconda3/envs/know/lib/python3.7/json/__init__.py\u001b[0m in \u001b[0;36mdumps\u001b[0;34m(obj, skipkeys, ensure_ascii, check_circular, allow_nan, cls, indent, separators, default, sort_keys, **kw)\u001b[0m\n\u001b[1;32m    236\u001b[0m         \u001b[0mcheck_circular\u001b[0m\u001b[0;34m=\u001b[0m\u001b[0mcheck_circular\u001b[0m\u001b[0;34m,\u001b[0m \u001b[0mallow_nan\u001b[0m\u001b[0;34m=\u001b[0m\u001b[0mallow_nan\u001b[0m\u001b[0;34m,\u001b[0m \u001b[0mindent\u001b[0m\u001b[0;34m=\u001b[0m\u001b[0mindent\u001b[0m\u001b[0;34m,\u001b[0m\u001b[0;34m\u001b[0m\u001b[0;34m\u001b[0m\u001b[0m\n\u001b[1;32m    237\u001b[0m         \u001b[0mseparators\u001b[0m\u001b[0;34m=\u001b[0m\u001b[0mseparators\u001b[0m\u001b[0;34m,\u001b[0m \u001b[0mdefault\u001b[0m\u001b[0;34m=\u001b[0m\u001b[0mdefault\u001b[0m\u001b[0;34m,\u001b[0m \u001b[0msort_keys\u001b[0m\u001b[0;34m=\u001b[0m\u001b[0msort_keys\u001b[0m\u001b[0;34m,\u001b[0m\u001b[0;34m\u001b[0m\u001b[0;34m\u001b[0m\u001b[0m\n\u001b[0;32m--> 238\u001b[0;31m         **kw).encode(obj)\n\u001b[0m\u001b[1;32m    239\u001b[0m \u001b[0;34m\u001b[0m\u001b[0m\n\u001b[1;32m    240\u001b[0m \u001b[0;34m\u001b[0m\u001b[0m\n",
      "\u001b[0;32m~/anaconda3/envs/know/lib/python3.7/json/encoder.py\u001b[0m in \u001b[0;36mencode\u001b[0;34m(self, o)\u001b[0m\n\u001b[1;32m    197\u001b[0m         \u001b[0;31m# exceptions aren't as detailed.  The list call should be roughly\u001b[0m\u001b[0;34m\u001b[0m\u001b[0;34m\u001b[0m\u001b[0;34m\u001b[0m\u001b[0m\n\u001b[1;32m    198\u001b[0m         \u001b[0;31m# equivalent to the PySequence_Fast that ''.join() would do.\u001b[0m\u001b[0;34m\u001b[0m\u001b[0;34m\u001b[0m\u001b[0;34m\u001b[0m\u001b[0m\n\u001b[0;32m--> 199\u001b[0;31m         \u001b[0mchunks\u001b[0m \u001b[0;34m=\u001b[0m \u001b[0mself\u001b[0m\u001b[0;34m.\u001b[0m\u001b[0miterencode\u001b[0m\u001b[0;34m(\u001b[0m\u001b[0mo\u001b[0m\u001b[0;34m,\u001b[0m \u001b[0m_one_shot\u001b[0m\u001b[0;34m=\u001b[0m\u001b[0;32mTrue\u001b[0m\u001b[0;34m)\u001b[0m\u001b[0;34m\u001b[0m\u001b[0;34m\u001b[0m\u001b[0m\n\u001b[0m\u001b[1;32m    200\u001b[0m         \u001b[0;32mif\u001b[0m \u001b[0;32mnot\u001b[0m \u001b[0misinstance\u001b[0m\u001b[0;34m(\u001b[0m\u001b[0mchunks\u001b[0m\u001b[0;34m,\u001b[0m \u001b[0;34m(\u001b[0m\u001b[0mlist\u001b[0m\u001b[0;34m,\u001b[0m \u001b[0mtuple\u001b[0m\u001b[0;34m)\u001b[0m\u001b[0;34m)\u001b[0m\u001b[0;34m:\u001b[0m\u001b[0;34m\u001b[0m\u001b[0;34m\u001b[0m\u001b[0m\n\u001b[1;32m    201\u001b[0m             \u001b[0mchunks\u001b[0m \u001b[0;34m=\u001b[0m \u001b[0mlist\u001b[0m\u001b[0;34m(\u001b[0m\u001b[0mchunks\u001b[0m\u001b[0;34m)\u001b[0m\u001b[0;34m\u001b[0m\u001b[0;34m\u001b[0m\u001b[0m\n",
      "\u001b[0;32m~/anaconda3/envs/know/lib/python3.7/json/encoder.py\u001b[0m in \u001b[0;36miterencode\u001b[0;34m(self, o, _one_shot)\u001b[0m\n\u001b[1;32m    255\u001b[0m                 \u001b[0mself\u001b[0m\u001b[0;34m.\u001b[0m\u001b[0mkey_separator\u001b[0m\u001b[0;34m,\u001b[0m \u001b[0mself\u001b[0m\u001b[0;34m.\u001b[0m\u001b[0mitem_separator\u001b[0m\u001b[0;34m,\u001b[0m \u001b[0mself\u001b[0m\u001b[0;34m.\u001b[0m\u001b[0msort_keys\u001b[0m\u001b[0;34m,\u001b[0m\u001b[0;34m\u001b[0m\u001b[0;34m\u001b[0m\u001b[0m\n\u001b[1;32m    256\u001b[0m                 self.skipkeys, _one_shot)\n\u001b[0;32m--> 257\u001b[0;31m         \u001b[0;32mreturn\u001b[0m \u001b[0m_iterencode\u001b[0m\u001b[0;34m(\u001b[0m\u001b[0mo\u001b[0m\u001b[0;34m,\u001b[0m \u001b[0;36m0\u001b[0m\u001b[0;34m)\u001b[0m\u001b[0;34m\u001b[0m\u001b[0;34m\u001b[0m\u001b[0m\n\u001b[0m\u001b[1;32m    258\u001b[0m \u001b[0;34m\u001b[0m\u001b[0m\n\u001b[1;32m    259\u001b[0m def _make_iterencode(markers, _default, _encoder, _indent, _floatstr,\n",
      "\u001b[0;32m~/anaconda3/envs/know/lib/python3.7/site-packages/django/core/serializers/json.py\u001b[0m in \u001b[0;36mdefault\u001b[0;34m(self, o)\u001b[0m\n\u001b[1;32m    102\u001b[0m             \u001b[0;32mreturn\u001b[0m \u001b[0mstr\u001b[0m\u001b[0;34m(\u001b[0m\u001b[0mo\u001b[0m\u001b[0;34m)\u001b[0m\u001b[0;34m\u001b[0m\u001b[0;34m\u001b[0m\u001b[0m\n\u001b[1;32m    103\u001b[0m         \u001b[0;32melse\u001b[0m\u001b[0;34m:\u001b[0m\u001b[0;34m\u001b[0m\u001b[0;34m\u001b[0m\u001b[0m\n\u001b[0;32m--> 104\u001b[0;31m             \u001b[0;32mreturn\u001b[0m \u001b[0msuper\u001b[0m\u001b[0;34m(\u001b[0m\u001b[0;34m)\u001b[0m\u001b[0;34m.\u001b[0m\u001b[0mdefault\u001b[0m\u001b[0;34m(\u001b[0m\u001b[0mo\u001b[0m\u001b[0;34m)\u001b[0m\u001b[0;34m\u001b[0m\u001b[0;34m\u001b[0m\u001b[0m\n\u001b[0m",
      "\u001b[0;32m~/anaconda3/envs/know/lib/python3.7/json/encoder.py\u001b[0m in \u001b[0;36mdefault\u001b[0;34m(self, o)\u001b[0m\n\u001b[1;32m    177\u001b[0m \u001b[0;34m\u001b[0m\u001b[0m\n\u001b[1;32m    178\u001b[0m         \"\"\"\n\u001b[0;32m--> 179\u001b[0;31m         raise TypeError(f'Object of type {o.__class__.__name__} '\n\u001b[0m\u001b[1;32m    180\u001b[0m                         f'is not JSON serializable')\n\u001b[1;32m    181\u001b[0m \u001b[0;34m\u001b[0m\u001b[0m\n",
      "\u001b[0;31mTypeError\u001b[0m: Object of type QuerySet is not JSON serializable"
     ]
    }
   ],
   "source": [
    "json.dumps(data, cls=DjangoJSONEncoder)"
   ]
  },
  {
   "cell_type": "markdown",
   "metadata": {},
   "source": [
    "DjangoJSONEncoder는 QuerySet의 직렬화/비직렬화 방법을 모르고 있기 때문에, not JSON serializable 오류가 발생한다. 그렇다면, 어떻게 해야 할까?\n",
    "\n",
    "QuerySet을 파이썬 표준 데이터타입의 값으로 한땀 한땀 직접 변환을 할 수 있겠다. 이는 json모듈이 하던 일을 직접 하는 것이다."
   ]
  },
  {
   "cell_type": "code",
   "execution_count": 16,
   "metadata": {},
   "outputs": [
    {
     "data": {
      "text/plain": [
       "'[{\"id\": 1, \"title\": \"횡단보도 보행자 없으면 우회전 가능?\", \"content\": \"교차로에서 우회전할 때 횡단 보도를 건너는 사람이 없다면 보행자 신호가 녹색이더라도 진입할 수 있을까요? 이 문제를 놓고 대법원과 경찰의 판단이 다른 상황입니다.\"}, {\"id\": 2, \"title\": \"\\'디지털세대, 아날로그에 빠지다\\'…아날로그 인기 이유는?\", \"content\": \"옛 방식을 고집하는 아날로그 공간들이 젊은 층을 중심으로 주목받고 있습니다.\"}, {\"id\": 3, \"title\": \"저녁 줄였는데 누구는 살 빠지고, 난 안 빠지고…이유는\", \"content\": \"늦은 시간에 야식 먹으면 다 살로 간다고 하죠? 그래서 야식 증후군이란 말까지 생겼습니다. 또 아침은 많이 먹고 저녁은 되도록 적게 먹는 것이 다이어트의 지름길이라고 생각하기도 합니다. 이게 다 얼마나 맞는 말일까요?\"}]'"
      ]
     },
     "execution_count": 16,
     "metadata": {},
     "output_type": "execute_result"
    }
   ],
   "source": [
    "data = [\n",
    "    {'id': post.id, 'title': post.title, 'content': post.content}\n",
    "    for post in Post.objects.all()\n",
    "]\n",
    "\n",
    "json.dumps(data, cls=DjangoJSONEncoder, ensure_ascii=False)"
   ]
  },
  {
   "cell_type": "code",
   "execution_count": 17,
   "metadata": {},
   "outputs": [
    {
     "data": {
      "text/plain": [
       "'[\"\\\\uc548\\\\ub155\", \"\\\\ud30c\\\\uc774\\\\uc36c\"]'"
      ]
     },
     "execution_count": 17,
     "metadata": {},
     "output_type": "execute_result"
    }
   ],
   "source": [
    "import json\n",
    "\n",
    "mydata = ['안녕', '파이썬']\n",
    "json.dumps(mydata)"
   ]
  },
  {
   "cell_type": "code",
   "execution_count": 18,
   "metadata": {},
   "outputs": [
    {
     "data": {
      "text/plain": [
       "'[\"안녕\", \"파이썬\"]'"
      ]
     },
     "execution_count": 18,
     "metadata": {},
     "output_type": "execute_result"
    }
   ],
   "source": [
    "json.dumps(mydata, ensure_ascii=False)  # ensure_ascill를 False로 설정하면, 문자열을 그대로 유지"
   ]
  },
  {
   "cell_type": "markdown",
   "metadata": {},
   "source": [
    "\"소곤소곤. json에게 직렬화 방법을 알려줄 수도 있다. 어떻게 하느냐??? **DjangoJSONEncoder**가 직렬화 방법을 알고 있기에, 이를 확장하면 된다. 다음 2가지 타입을 지원할 수 있도록 한다.\n",
    "\n",
    "* QuerySet 타입 : tuple 타입으로 변환\n",
    "* Post 타입 : dict 타입으로 변환"
   ]
  },
  {
   "cell_type": "code",
   "execution_count": 25,
   "metadata": {},
   "outputs": [
    {
     "data": {
      "text/plain": [
       "'[{\"id\": 1, \"title\": \"횡단보도 보행자 없으면 우회전 가능?\", \"content\": \"교차로에서 우회전할 때 횡단 보도를 건너는 사람이 없다면 보행자 신호가 녹색이더라도 진입할 수 있을까요? 이 문제를 놓고 대법원과 경찰의 판단이 다른 상황입니다.\"}, {\"id\": 2, \"title\": \"\\'디지털세대, 아날로그에 빠지다\\'…아날로그 인기 이유는?\", \"content\": \"옛 방식을 고집하는 아날로그 공간들이 젊은 층을 중심으로 주목받고 있습니다.\"}, {\"id\": 3, \"title\": \"저녁 줄였는데 누구는 살 빠지고, 난 안 빠지고…이유는\", \"content\": \"늦은 시간에 야식 먹으면 다 살로 간다고 하죠? 그래서 야식 증후군이란 말까지 생겼습니다. 또 아침은 많이 먹고 저녁은 되도록 적게 먹는 것이 다이어트의 지름길이라고 생각하기도 합니다. 이게 다 얼마나 맞는 말일까요?\"}]'"
      ]
     },
     "execution_count": 25,
     "metadata": {},
     "output_type": "execute_result"
    }
   ],
   "source": [
    "from django.core.serializers.json import DjangoJSONEncoder\n",
    "from django.db.models.query import QuerySet\n",
    "\n",
    "# 커스텀 JSON Encoder 정의\n",
    "class MyJSONEncoder(DjangoJSONEncoder):\n",
    "    def default(self, obj):\n",
    "        if isinstance(obj, QuerySet):  # obj가 queryset이면\n",
    "            return tuple(obj)\n",
    "        elif isinstance(obj, Post):    # obj가 Post이면\n",
    "            return {'id': obj.id, 'title': obj.title, 'content': obj.content}\n",
    "        return super().default(obj)\n",
    "    \n",
    "data = Post.objects.all()\n",
    "\n",
    "# 직렬화할 때 직렬화를 수행해 줄 JSON Encoder를 지정해 준다\n",
    "json.dumps(data, cls=MyJSONEncoder, ensure_ascii=False)"
   ]
  },
  {
   "cell_type": "markdown",
   "metadata": {},
   "source": [
    "이러한 방식을 django-rest-framework에서도 커스텀 JSON Encoder를 만드는 방식으로 지원해 준다.\n",
    "\n",
    "## rest_framwork.render.JSONRender의 직렬화 방식\n",
    "\n",
    "rest_framework/utils/encoders.py 의 JSONEncoder 클래스를 통한 직렬화를 수행한다.\n",
    "\n",
    "JSONEncoder는 장고의 DjangoJSONEncoder를 상속받지는 않고, json.JSONEncoder를 직접 상속받아 다음 타입에 대한 직렬화를 추가로 지원한다.\n",
    "\n",
    "* 파이썬 표준 데이터 타입\n",
    "    * datetime.datetime 타입\n",
    "    * datetime.date 타입\n",
    "    * datetime.time 타입\n",
    "    * datetime.timedelta 타입\n",
    "    * decimal.Decimal 타입\n",
    "    * uuid.UUID 타입\n",
    "    * six.binary_type 타입\n",
    "    * __getitem__ 함수를 지원할 경우, dict(obj)의 리턴값을 취함\n",
    "    * __iter__ 함수를 지원할 경우, tuple(item for item in obj)의 리턴값을 취함\n",
    "    \n",
    "* 장고 데이터 타입\n",
    "    * QuerySet 타입일 경우, tuple(obj)의 리턴값을 취함.\n",
    "    * .tolist 함수를 가질 경우, obj.tolist()의 리턴값을 취함.\n",
    "\n",
    "**QuerySet에 대한 직렬화를 지원해 주지만, Model 타입에 대한 직렬화는 없다. 이는 ModelSerializer의 도움을 받는다.**\n",
    "\n",
    "rest_framework/renderer.py 내 JSONRenderer는 json.dumps 함수에 대한 래핑 클래스다. 보다 편리한 JSON 직렬화를 도와준다. 다음 코드로 직렬화를 수행하실 수 있다. utf8 인코딩도 추가로 수행해 준다."
   ]
  },
  {
   "cell_type": "code",
   "execution_count": 27,
   "metadata": {},
   "outputs": [
    {
     "name": "stdout",
     "output_type": "stream",
     "text": [
      "b'{\"\\xec\\x9d\\xb4\\xeb\\xa6\\x84\":\"AskDjango\"}'\n"
     ]
    },
    {
     "data": {
      "text/plain": [
       "'{\"이름\":\"AskDjango\"}'"
      ]
     },
     "execution_count": 27,
     "metadata": {},
     "output_type": "execute_result"
    }
   ],
   "source": [
    "from rest_framework.renderers import JSONRenderer\n",
    "\n",
    "data = {'이름': 'AskDjango'}\n",
    "json_utf8_string = JSONRenderer().render(data)\n",
    "print(json_utf8_string)\n",
    "\n",
    "json_utf8_string.decode('utf8')  # 출력포맷 조정을 목적으로 할 뿐 실제 서비스에서는 decode 하지 않는다."
   ]
  },
  {
   "cell_type": "code",
   "execution_count": 28,
   "metadata": {},
   "outputs": [],
   "source": [
    "from rest_framework.renderers import JSONRenderer\n",
    "\n",
    "data = Post.objects.all()"
   ]
  },
  {
   "cell_type": "code",
   "execution_count": 29,
   "metadata": {},
   "outputs": [
    {
     "ename": "TypeError",
     "evalue": "Object of type Post is not JSON serializable",
     "output_type": "error",
     "traceback": [
      "\u001b[0;31m---------------------------------------------------------------------------\u001b[0m",
      "\u001b[0;31mTypeError\u001b[0m                                 Traceback (most recent call last)",
      "\u001b[0;32m<ipython-input-29-da2774a1fe5e>\u001b[0m in \u001b[0;36m<module>\u001b[0;34m\u001b[0m\n\u001b[0;32m----> 1\u001b[0;31m \u001b[0mJSONRenderer\u001b[0m\u001b[0;34m(\u001b[0m\u001b[0;34m)\u001b[0m\u001b[0;34m.\u001b[0m\u001b[0mrender\u001b[0m\u001b[0;34m(\u001b[0m\u001b[0mdata\u001b[0m\u001b[0;34m)\u001b[0m\u001b[0;34m\u001b[0m\u001b[0;34m\u001b[0m\u001b[0m\n\u001b[0m",
      "\u001b[0;32m~/anaconda3/envs/know/lib/python3.7/site-packages/rest_framework/renderers.py\u001b[0m in \u001b[0;36mrender\u001b[0;34m(self, data, accepted_media_type, renderer_context)\u001b[0m\n\u001b[1;32m    102\u001b[0m             \u001b[0mdata\u001b[0m\u001b[0;34m,\u001b[0m \u001b[0mcls\u001b[0m\u001b[0;34m=\u001b[0m\u001b[0mself\u001b[0m\u001b[0;34m.\u001b[0m\u001b[0mencoder_class\u001b[0m\u001b[0;34m,\u001b[0m\u001b[0;34m\u001b[0m\u001b[0;34m\u001b[0m\u001b[0m\n\u001b[1;32m    103\u001b[0m             \u001b[0mindent\u001b[0m\u001b[0;34m=\u001b[0m\u001b[0mindent\u001b[0m\u001b[0;34m,\u001b[0m \u001b[0mensure_ascii\u001b[0m\u001b[0;34m=\u001b[0m\u001b[0mself\u001b[0m\u001b[0;34m.\u001b[0m\u001b[0mensure_ascii\u001b[0m\u001b[0;34m,\u001b[0m\u001b[0;34m\u001b[0m\u001b[0;34m\u001b[0m\u001b[0m\n\u001b[0;32m--> 104\u001b[0;31m             \u001b[0mallow_nan\u001b[0m\u001b[0;34m=\u001b[0m\u001b[0;32mnot\u001b[0m \u001b[0mself\u001b[0m\u001b[0;34m.\u001b[0m\u001b[0mstrict\u001b[0m\u001b[0;34m,\u001b[0m \u001b[0mseparators\u001b[0m\u001b[0;34m=\u001b[0m\u001b[0mseparators\u001b[0m\u001b[0;34m\u001b[0m\u001b[0;34m\u001b[0m\u001b[0m\n\u001b[0m\u001b[1;32m    105\u001b[0m         )\n\u001b[1;32m    106\u001b[0m \u001b[0;34m\u001b[0m\u001b[0m\n",
      "\u001b[0;32m~/anaconda3/envs/know/lib/python3.7/site-packages/rest_framework/utils/json.py\u001b[0m in \u001b[0;36mdumps\u001b[0;34m(*args, **kwargs)\u001b[0m\n\u001b[1;32m     23\u001b[0m \u001b[0;32mdef\u001b[0m \u001b[0mdumps\u001b[0m\u001b[0;34m(\u001b[0m\u001b[0;34m*\u001b[0m\u001b[0margs\u001b[0m\u001b[0;34m,\u001b[0m \u001b[0;34m**\u001b[0m\u001b[0mkwargs\u001b[0m\u001b[0;34m)\u001b[0m\u001b[0;34m:\u001b[0m\u001b[0;34m\u001b[0m\u001b[0;34m\u001b[0m\u001b[0m\n\u001b[1;32m     24\u001b[0m     \u001b[0mkwargs\u001b[0m\u001b[0;34m.\u001b[0m\u001b[0msetdefault\u001b[0m\u001b[0;34m(\u001b[0m\u001b[0;34m'allow_nan'\u001b[0m\u001b[0;34m,\u001b[0m \u001b[0;32mFalse\u001b[0m\u001b[0;34m)\u001b[0m\u001b[0;34m\u001b[0m\u001b[0;34m\u001b[0m\u001b[0m\n\u001b[0;32m---> 25\u001b[0;31m     \u001b[0;32mreturn\u001b[0m \u001b[0mjson\u001b[0m\u001b[0;34m.\u001b[0m\u001b[0mdumps\u001b[0m\u001b[0;34m(\u001b[0m\u001b[0;34m*\u001b[0m\u001b[0margs\u001b[0m\u001b[0;34m,\u001b[0m \u001b[0;34m**\u001b[0m\u001b[0mkwargs\u001b[0m\u001b[0;34m)\u001b[0m\u001b[0;34m\u001b[0m\u001b[0;34m\u001b[0m\u001b[0m\n\u001b[0m\u001b[1;32m     26\u001b[0m \u001b[0;34m\u001b[0m\u001b[0m\n\u001b[1;32m     27\u001b[0m \u001b[0;34m\u001b[0m\u001b[0m\n",
      "\u001b[0;32m~/anaconda3/envs/know/lib/python3.7/json/__init__.py\u001b[0m in \u001b[0;36mdumps\u001b[0;34m(obj, skipkeys, ensure_ascii, check_circular, allow_nan, cls, indent, separators, default, sort_keys, **kw)\u001b[0m\n\u001b[1;32m    236\u001b[0m         \u001b[0mcheck_circular\u001b[0m\u001b[0;34m=\u001b[0m\u001b[0mcheck_circular\u001b[0m\u001b[0;34m,\u001b[0m \u001b[0mallow_nan\u001b[0m\u001b[0;34m=\u001b[0m\u001b[0mallow_nan\u001b[0m\u001b[0;34m,\u001b[0m \u001b[0mindent\u001b[0m\u001b[0;34m=\u001b[0m\u001b[0mindent\u001b[0m\u001b[0;34m,\u001b[0m\u001b[0;34m\u001b[0m\u001b[0;34m\u001b[0m\u001b[0m\n\u001b[1;32m    237\u001b[0m         \u001b[0mseparators\u001b[0m\u001b[0;34m=\u001b[0m\u001b[0mseparators\u001b[0m\u001b[0;34m,\u001b[0m \u001b[0mdefault\u001b[0m\u001b[0;34m=\u001b[0m\u001b[0mdefault\u001b[0m\u001b[0;34m,\u001b[0m \u001b[0msort_keys\u001b[0m\u001b[0;34m=\u001b[0m\u001b[0msort_keys\u001b[0m\u001b[0;34m,\u001b[0m\u001b[0;34m\u001b[0m\u001b[0;34m\u001b[0m\u001b[0m\n\u001b[0;32m--> 238\u001b[0;31m         **kw).encode(obj)\n\u001b[0m\u001b[1;32m    239\u001b[0m \u001b[0;34m\u001b[0m\u001b[0m\n\u001b[1;32m    240\u001b[0m \u001b[0;34m\u001b[0m\u001b[0m\n",
      "\u001b[0;32m~/anaconda3/envs/know/lib/python3.7/json/encoder.py\u001b[0m in \u001b[0;36mencode\u001b[0;34m(self, o)\u001b[0m\n\u001b[1;32m    197\u001b[0m         \u001b[0;31m# exceptions aren't as detailed.  The list call should be roughly\u001b[0m\u001b[0;34m\u001b[0m\u001b[0;34m\u001b[0m\u001b[0;34m\u001b[0m\u001b[0m\n\u001b[1;32m    198\u001b[0m         \u001b[0;31m# equivalent to the PySequence_Fast that ''.join() would do.\u001b[0m\u001b[0;34m\u001b[0m\u001b[0;34m\u001b[0m\u001b[0;34m\u001b[0m\u001b[0m\n\u001b[0;32m--> 199\u001b[0;31m         \u001b[0mchunks\u001b[0m \u001b[0;34m=\u001b[0m \u001b[0mself\u001b[0m\u001b[0;34m.\u001b[0m\u001b[0miterencode\u001b[0m\u001b[0;34m(\u001b[0m\u001b[0mo\u001b[0m\u001b[0;34m,\u001b[0m \u001b[0m_one_shot\u001b[0m\u001b[0;34m=\u001b[0m\u001b[0;32mTrue\u001b[0m\u001b[0;34m)\u001b[0m\u001b[0;34m\u001b[0m\u001b[0;34m\u001b[0m\u001b[0m\n\u001b[0m\u001b[1;32m    200\u001b[0m         \u001b[0;32mif\u001b[0m \u001b[0;32mnot\u001b[0m \u001b[0misinstance\u001b[0m\u001b[0;34m(\u001b[0m\u001b[0mchunks\u001b[0m\u001b[0;34m,\u001b[0m \u001b[0;34m(\u001b[0m\u001b[0mlist\u001b[0m\u001b[0;34m,\u001b[0m \u001b[0mtuple\u001b[0m\u001b[0;34m)\u001b[0m\u001b[0;34m)\u001b[0m\u001b[0;34m:\u001b[0m\u001b[0;34m\u001b[0m\u001b[0;34m\u001b[0m\u001b[0m\n\u001b[1;32m    201\u001b[0m             \u001b[0mchunks\u001b[0m \u001b[0;34m=\u001b[0m \u001b[0mlist\u001b[0m\u001b[0;34m(\u001b[0m\u001b[0mchunks\u001b[0m\u001b[0;34m)\u001b[0m\u001b[0;34m\u001b[0m\u001b[0;34m\u001b[0m\u001b[0m\n",
      "\u001b[0;32m~/anaconda3/envs/know/lib/python3.7/json/encoder.py\u001b[0m in \u001b[0;36miterencode\u001b[0;34m(self, o, _one_shot)\u001b[0m\n\u001b[1;32m    255\u001b[0m                 \u001b[0mself\u001b[0m\u001b[0;34m.\u001b[0m\u001b[0mkey_separator\u001b[0m\u001b[0;34m,\u001b[0m \u001b[0mself\u001b[0m\u001b[0;34m.\u001b[0m\u001b[0mitem_separator\u001b[0m\u001b[0;34m,\u001b[0m \u001b[0mself\u001b[0m\u001b[0;34m.\u001b[0m\u001b[0msort_keys\u001b[0m\u001b[0;34m,\u001b[0m\u001b[0;34m\u001b[0m\u001b[0;34m\u001b[0m\u001b[0m\n\u001b[1;32m    256\u001b[0m                 self.skipkeys, _one_shot)\n\u001b[0;32m--> 257\u001b[0;31m         \u001b[0;32mreturn\u001b[0m \u001b[0m_iterencode\u001b[0m\u001b[0;34m(\u001b[0m\u001b[0mo\u001b[0m\u001b[0;34m,\u001b[0m \u001b[0;36m0\u001b[0m\u001b[0;34m)\u001b[0m\u001b[0;34m\u001b[0m\u001b[0;34m\u001b[0m\u001b[0m\n\u001b[0m\u001b[1;32m    258\u001b[0m \u001b[0;34m\u001b[0m\u001b[0m\n\u001b[1;32m    259\u001b[0m def _make_iterencode(markers, _default, _encoder, _indent, _floatstr,\n",
      "\u001b[0;32m~/anaconda3/envs/know/lib/python3.7/site-packages/rest_framework/utils/encoders.py\u001b[0m in \u001b[0;36mdefault\u001b[0;34m(self, obj)\u001b[0m\n\u001b[1;32m     65\u001b[0m         \u001b[0;32melif\u001b[0m \u001b[0mhasattr\u001b[0m\u001b[0;34m(\u001b[0m\u001b[0mobj\u001b[0m\u001b[0;34m,\u001b[0m \u001b[0;34m'__iter__'\u001b[0m\u001b[0;34m)\u001b[0m\u001b[0;34m:\u001b[0m\u001b[0;34m\u001b[0m\u001b[0;34m\u001b[0m\u001b[0m\n\u001b[1;32m     66\u001b[0m             \u001b[0;32mreturn\u001b[0m \u001b[0mtuple\u001b[0m\u001b[0;34m(\u001b[0m\u001b[0mitem\u001b[0m \u001b[0;32mfor\u001b[0m \u001b[0mitem\u001b[0m \u001b[0;32min\u001b[0m \u001b[0mobj\u001b[0m\u001b[0;34m)\u001b[0m\u001b[0;34m\u001b[0m\u001b[0;34m\u001b[0m\u001b[0m\n\u001b[0;32m---> 67\u001b[0;31m         \u001b[0;32mreturn\u001b[0m \u001b[0msuper\u001b[0m\u001b[0;34m(\u001b[0m\u001b[0;34m)\u001b[0m\u001b[0;34m.\u001b[0m\u001b[0mdefault\u001b[0m\u001b[0;34m(\u001b[0m\u001b[0mobj\u001b[0m\u001b[0;34m)\u001b[0m\u001b[0;34m\u001b[0m\u001b[0;34m\u001b[0m\u001b[0m\n\u001b[0m",
      "\u001b[0;32m~/anaconda3/envs/know/lib/python3.7/json/encoder.py\u001b[0m in \u001b[0;36mdefault\u001b[0;34m(self, o)\u001b[0m\n\u001b[1;32m    177\u001b[0m \u001b[0;34m\u001b[0m\u001b[0m\n\u001b[1;32m    178\u001b[0m         \"\"\"\n\u001b[0;32m--> 179\u001b[0;31m         raise TypeError(f'Object of type {o.__class__.__name__} '\n\u001b[0m\u001b[1;32m    180\u001b[0m                         f'is not JSON serializable')\n\u001b[1;32m    181\u001b[0m \u001b[0;34m\u001b[0m\u001b[0m\n",
      "\u001b[0;31mTypeError\u001b[0m: Object of type Post is not JSON serializable"
     ]
    }
   ],
   "source": [
    "JSONRenderer().render(data)  # 모델에 대해서는 지원하지 않는다."
   ]
  },
  {
   "cell_type": "markdown",
   "metadata": {},
   "source": [
    "이것 역시 직접 한땀 한땀 직렬화를 수행해야 한다."
   ]
  },
  {
   "cell_type": "code",
   "execution_count": 32,
   "metadata": {},
   "outputs": [
    {
     "data": {
      "text/plain": [
       "'[{\"id\":1,\"title\":\"횡단보도 보행자 없으면 우회전 가능?\",\"content\":\"교차로에서 우회전할 때 횡단 보도를 건너는 사람이 없다면 보행자 신호가 녹색이더라도 진입할 수 있을까요? 이 문제를 놓고 대법원과 경찰의 판단이 다른 상황입니다.\"},{\"id\":2,\"title\":\"\\'디지털세대, 아날로그에 빠지다\\'…아날로그 인기 이유는?\",\"content\":\"옛 방식을 고집하는 아날로그 공간들이 젊은 층을 중심으로 주목받고 있습니다.\"},{\"id\":3,\"title\":\"저녁 줄였는데 누구는 살 빠지고, 난 안 빠지고…이유는\",\"content\":\"늦은 시간에 야식 먹으면 다 살로 간다고 하죠? 그래서 야식 증후군이란 말까지 생겼습니다. 또 아침은 많이 먹고 저녁은 되도록 적게 먹는 것이 다이어트의 지름길이라고 생각하기도 합니다. 이게 다 얼마나 맞는 말일까요?\"}]'"
      ]
     },
     "execution_count": 32,
     "metadata": {},
     "output_type": "execute_result"
    }
   ],
   "source": [
    "data = [\n",
    "    {'id': post.id, 'title': post.title, 'content': post.content}\n",
    "     for post in Post.objects.all()]\n",
    "\n",
    "json_utf8_string = JSONRenderer().render(data)\n",
    "\n",
    "json_utf8_string.decode('utf8')"
   ]
  },
  {
   "cell_type": "markdown",
   "metadata": {},
   "source": [
    "django-rest-framework에서 사용하는 JSONEncoder를 다음과 같이 확장해 볼수도 있지만..."
   ]
  },
  {
   "cell_type": "code",
   "execution_count": 33,
   "metadata": {},
   "outputs": [
    {
     "data": {
      "text/plain": [
       "'[{\"id\":1,\"title\":\"횡단보도 보행자 없으면 우회전 가능?\",\"content\":\"교차로에서 우회전할 때 횡단 보도를 건너는 사람이 없다면 보행자 신호가 녹색이더라도 진입할 수 있을까요? 이 문제를 놓고 대법원과 경찰의 판단이 다른 상황입니다.\"},{\"id\":2,\"title\":\"\\'디지털세대, 아날로그에 빠지다\\'…아날로그 인기 이유는?\",\"content\":\"옛 방식을 고집하는 아날로그 공간들이 젊은 층을 중심으로 주목받고 있습니다.\"},{\"id\":3,\"title\":\"저녁 줄였는데 누구는 살 빠지고, 난 안 빠지고…이유는\",\"content\":\"늦은 시간에 야식 먹으면 다 살로 간다고 하죠? 그래서 야식 증후군이란 말까지 생겼습니다. 또 아침은 많이 먹고 저녁은 되도록 적게 먹는 것이 다이어트의 지름길이라고 생각하기도 합니다. 이게 다 얼마나 맞는 말일까요?\"}]'"
      ]
     },
     "execution_count": 33,
     "metadata": {},
     "output_type": "execute_result"
    }
   ],
   "source": [
    "from rest_framework.renderers import JSONRenderer\n",
    "from rest_framework.utils.encoders import JSONEncoder\n",
    "\n",
    "class MyJSONEncoder(JSONEncoder):\n",
    "    def default(self, obj):\n",
    "        if isinstance(obj, Post):\n",
    "            return {'id': obj.id, 'title': obj.title, 'content': obj.content}\n",
    "        return super().default(obj)\n",
    "    \n",
    "data = Post.objects.all()\n",
    "\n",
    "renderer = JSONRenderer()\n",
    "renderer.encoder_class = MyJSONEncoder\n",
    "json_utf8_string = renderer.render(data)\n",
    "\n",
    "json_utf8_string.decode('utf8')"
   ]
  },
  {
   "cell_type": "markdown",
   "metadata": {},
   "source": [
    "## ModelSerializer를 통한 JSON 직렬화\n",
    "\n",
    "django-rest-framework에서는 일반적으로 ModelSerializer를 통해 JSONRenderer에서 변환가능한 형태로 먼저 데이터를 변환한다.\n",
    "\n",
    "Serializer는 장고의 Form과 유사하며, ModelSerializer는 장고의 ModelForm과 유사한다. 역할 면에서 Serializer는 POST 요청만 처리하는 Form이라 할 수 있다."
   ]
  },
  {
   "cell_type": "raw",
   "metadata": {},
   "source": [
    "Django Form/ModelForm\t            Django Serializer/ModelSerializer\n",
    "-------------------------------------------------------------------\n",
    "폼 필드 지정 혹은 모델로부터 읽어오기\t                 좌동\n",
    "Form HTML을 생성\t                         JSON 문자열을 생성\n",
    "입력된 데이터에 대한 유효성 검사 및 획득\t                 좌동"
   ]
  },
  {
   "cell_type": "markdown",
   "metadata": {},
   "source": [
    "다음과 같이 ModelSerializer를 정의한다."
   ]
  },
  {
   "cell_type": "code",
   "execution_count": 34,
   "metadata": {},
   "outputs": [],
   "source": [
    "from rest_framework.serializers import ModelSerializer\n",
    "\n",
    "# Post 모델에 대한 ModelSerializer 정의\n",
    "class PostModelSerializer(ModelSerializer):\n",
    "    class Meta:\n",
    "        model = Post\n",
    "        fields = '__all__'"
   ]
  },
  {
   "cell_type": "markdown",
   "metadata": {},
   "source": [
    "\n",
    "다음과 같이 Post 모델 인스턴스에 대해서도 dict타입으로 변환을 지원한다. "
   ]
  },
  {
   "cell_type": "code",
   "execution_count": 35,
   "metadata": {},
   "outputs": [
    {
     "data": {
      "text/plain": [
       "<Post: 횡단보도 보행자 없으면 우회전 가능?>"
      ]
     },
     "execution_count": 35,
     "metadata": {},
     "output_type": "execute_result"
    }
   ],
   "source": [
    "post = Post.objects.first()\n",
    "post"
   ]
  },
  {
   "cell_type": "code",
   "execution_count": 44,
   "metadata": {},
   "outputs": [
    {
     "name": "stdout",
     "output_type": "stream",
     "text": [
      "{'content': '교차로에서 우회전할 때 횡단 보도를 건너는 사람이 없다면 보행자 신호가 녹색이더라도 진입할 수 있을까요? 이 문제를 '\n",
      "            '놓고 대법원과 경찰의 판단이 다른 상황입니다.',\n",
      " 'created_at': '2019-11-08T23:10:31.389629',\n",
      " 'id': 1,\n",
      " 'title': '횡단보도 보행자 없으면 우회전 가능?',\n",
      " 'updated_at': '2019-11-08T23:10:31.389656'}\n"
     ]
    },
    {
     "data": {
      "text/plain": [
       "rest_framework.utils.serializer_helpers.ReturnDict"
      ]
     },
     "execution_count": 44,
     "metadata": {},
     "output_type": "execute_result"
    }
   ],
   "source": [
    "from pprint import pprint\n",
    "serializer = PostModelSerializer(post)\n",
    "pprint(serializer.data)\n",
    "type(serializer.data)"
   ]
  },
  {
   "cell_type": "code",
   "execution_count": null,
   "metadata": {},
   "outputs": [],
   "source": []
  },
  {
   "cell_type": "markdown",
   "metadata": {},
   "source": [
    "## QuerySet 변환 지원\n",
    "\n",
    "ModelSerializer는 QuerySet에 대해서도 변환을 지원해 준다. ModelSerializer의 many 인자는 디폴트 False이다. many=True 인자를 지정해줘야만 QuerySet을 처리한다."
   ]
  },
  {
   "cell_type": "code",
   "execution_count": 40,
   "metadata": {},
   "outputs": [
    {
     "name": "stdout",
     "output_type": "stream",
     "text": [
      "[OrderedDict([('id', 1), ('title', '횡단보도 보행자 없으면 우회전 가능?'), ('content', '교차로에서 우회전할 때 횡단 보도를 건너는 사람이 없다면 보행자 신호가 녹색이더라도 진입할 수 있을까요? 이 문제를 놓고 대법원과 경찰의 판단이 다른 상황입니다.'), ('created_at', '2019-11-08T23:10:31.389629'), ('updated_at', '2019-11-08T23:10:31.389656')]), OrderedDict([('id', 2), ('title', \"'디지털세대, 아날로그에 빠지다'…아날로그 인기 이유는?\"), ('content', '옛 방식을 고집하는 아날로그 공간들이 젊은 층을 중심으로 주목받고 있습니다.'), ('created_at', '2019-11-08T23:10:31.390197'), ('updated_at', '2019-11-08T23:10:31.390222')]), OrderedDict([('id', 3), ('title', '저녁 줄였는데 누구는 살 빠지고, 난 안 빠지고…이유는'), ('content', '늦은 시간에 야식 먹으면 다 살로 간다고 하죠? 그래서 야식 증후군이란 말까지 생겼습니다. 또 아침은 많이 먹고 저녁은 되도록 적게 먹는 것이 다이어트의 지름길이라고 생각하기도 합니다. 이게 다 얼마나 맞는 말일까요?'), ('created_at', '2019-11-08T23:10:31.390676'), ('updated_at', '2019-11-08T23:10:31.390709')])]\n"
     ]
    }
   ],
   "source": [
    "serializer = PostModelSerializer(Post.objects.all(), many=True)\n",
    "pprint(serializer.data)"
   ]
  },
  {
   "cell_type": "markdown",
   "metadata": {},
   "source": [
    "Tip: 위 serializer.data는 ReturnDict타입이다. OrderedDict을 상속받았으며, 생성자를 통해 serializer필드를 추가로 받는다."
   ]
  },
  {
   "cell_type": "code",
   "execution_count": 41,
   "metadata": {},
   "outputs": [
    {
     "data": {
      "text/plain": [
       "'[{\"id\": 1, \"title\": \"횡단보도 보행자 없으면 우회전 가능?\", \"content\": \"교차로에서 우회전할 때 횡단 보도를 건너는 사람이 없다면 보행자 신호가 녹색이더라도 진입할 수 있을까요? 이 문제를 놓고 대법원과 경찰의 판단이 다른 상황입니다.\", \"created_at\": \"2019-11-08T23:10:31.389629\", \"updated_at\": \"2019-11-08T23:10:31.389656\"}, {\"id\": 2, \"title\": \"\\'디지털세대, 아날로그에 빠지다\\'…아날로그 인기 이유는?\", \"content\": \"옛 방식을 고집하는 아날로그 공간들이 젊은 층을 중심으로 주목받고 있습니다.\", \"created_at\": \"2019-11-08T23:10:31.390197\", \"updated_at\": \"2019-11-08T23:10:31.390222\"}, {\"id\": 3, \"title\": \"저녁 줄였는데 누구는 살 빠지고, 난 안 빠지고…이유는\", \"content\": \"늦은 시간에 야식 먹으면 다 살로 간다고 하죠? 그래서 야식 증후군이란 말까지 생겼습니다. 또 아침은 많이 먹고 저녁은 되도록 적게 먹는 것이 다이어트의 지름길이라고 생각하기도 합니다. 이게 다 얼마나 맞는 말일까요?\", \"created_at\": \"2019-11-08T23:10:31.390676\", \"updated_at\": \"2019-11-08T23:10:31.390709\"}]'"
      ]
     },
     "execution_count": 41,
     "metadata": {},
     "output_type": "execute_result"
    }
   ],
   "source": [
    "import json\n",
    "\n",
    "json.dumps(serializer.data, ensure_ascii=False)"
   ]
  },
  {
   "cell_type": "code",
   "execution_count": 43,
   "metadata": {},
   "outputs": [
    {
     "data": {
      "text/plain": [
       "'[{\"id\":1,\"title\":\"횡단보도 보행자 없으면 우회전 가능?\",\"content\":\"교차로에서 우회전할 때 횡단 보도를 건너는 사람이 없다면 보행자 신호가 녹색이더라도 진입할 수 있을까요? 이 문제를 놓고 대법원과 경찰의 판단이 다른 상황입니다.\",\"created_at\":\"2019-11-08T23:10:31.389629\",\"updated_at\":\"2019-11-08T23:10:31.389656\"},{\"id\":2,\"title\":\"\\'디지털세대, 아날로그에 빠지다\\'…아날로그 인기 이유는?\",\"content\":\"옛 방식을 고집하는 아날로그 공간들이 젊은 층을 중심으로 주목받고 있습니다.\",\"created_at\":\"2019-11-08T23:10:31.390197\",\"updated_at\":\"2019-11-08T23:10:31.390222\"},{\"id\":3,\"title\":\"저녁 줄였는데 누구는 살 빠지고, 난 안 빠지고…이유는\",\"content\":\"늦은 시간에 야식 먹으면 다 살로 간다고 하죠? 그래서 야식 증후군이란 말까지 생겼습니다. 또 아침은 많이 먹고 저녁은 되도록 적게 먹는 것이 다이어트의 지름길이라고 생각하기도 합니다. 이게 다 얼마나 맞는 말일까요?\",\"created_at\":\"2019-11-08T23:10:31.390676\",\"updated_at\":\"2019-11-08T23:10:31.390709\"}]'"
      ]
     },
     "execution_count": 43,
     "metadata": {},
     "output_type": "execute_result"
    }
   ],
   "source": [
    "from rest_framework.renderers import JSONRenderer\n",
    "\n",
    "json_utf8_string = JSONRenderer().render(serializer.data)\n",
    "json_utf8_string.decode('utf8')"
   ]
  },
  {
   "cell_type": "markdown",
   "metadata": {},
   "source": [
    "## 뷰에서의 Json 응답\n",
    "\n",
    "### 장고 스타일\n",
    "\n",
    "JSON 포맷으로 직렬화된 문자열은 장고 뷰를 통해서 응답이 이뤄져야 한다. 다음 2가지가 가능하다.\n",
    "\n",
    "1. json.dumps를 통해 직렬화된 문자열을 HttpResponse를 통해 응답\n",
    "2. json.dumps기능을 제공하는 JsonResponse를 즉시 사용\n",
    "\n",
    "이 중에 2번째 방법을 사용해 본다. 이때 JsonResponse는 장고의 DjangoJSONEncoder를 사용하고 있으니, QuerySet에 대해서는 직렬화가 불가능하다. 그래서 위에서 정의한 MyJSONEncoder를 활용해 본다."
   ]
  },
  {
   "cell_type": "code",
   "execution_count": 45,
   "metadata": {},
   "outputs": [
    {
     "data": {
      "text/plain": [
       "<QuerySet [<Post: 횡단보도 보행자 없으면 우회전 가능?>, <Post: '디지털세대, 아날로그에 빠지다'…아날로그 인기 이유는?>, <Post: 저녁 줄였는데 누구는 살 빠지고, 난 안 빠지고…이유는>]>"
      ]
     },
     "execution_count": 45,
     "metadata": {},
     "output_type": "execute_result"
    }
   ],
   "source": [
    "# 직렬화할 Queryset 준비\n",
    "data = Post.objects.all()\n",
    "data"
   ]
  },
  {
   "cell_type": "markdown",
   "metadata": {},
   "source": [
    "JsonResponse에 넘겨줄 인자를 준비한다.\n",
    "\n",
    "* encoder (디폴트: DjangoJSONEncoder) : JSON 인코딩을 수행할 클래스\n",
    "* safe (디폴트: True) : 변환할 데이터의 dict타입 체킹을 목적으로 한다. 데이터가 dict타입이 아닐 경우에는 필히 False를 지정해 준다. 미지정 시에 TypeError 예외를 발생시킨다.\n",
    "* json_dumps_params (디폴트: None) : json.dumps에 넘겨질 인자\n",
    "* kwargs (디폴트: {}) : 부모 클래스인 HttpResponse에 넘겨질 인자"
   ]
  },
  {
   "cell_type": "code",
   "execution_count": 48,
   "metadata": {},
   "outputs": [],
   "source": [
    "encoder = MyJSONEncoder\n",
    "safe = False  # True: data가 dict일 경우에는 True 지정\n",
    "json_dumps_parms = {'ensure_ascii': False}\n",
    "kwargs = {}  # HttpResponse에 전해지는 keyword 인자"
   ]
  },
  {
   "cell_type": "markdown",
   "metadata": {},
   "source": [
    "다음과 같이 Http 응답을 생성하고, 그 응답바디를 출력해 본다."
   ]
  },
  {
   "cell_type": "code",
   "execution_count": 49,
   "metadata": {},
   "outputs": [
    {
     "name": "stdout",
     "output_type": "stream",
     "text": [
      "<JsonResponse status_code=200, \"application/json\">\n"
     ]
    },
    {
     "data": {
      "text/plain": [
       "'[{\"id\": 1, \"title\": \"횡단보도 보행자 없으면 우회전 가능?\", \"content\": \"교차로에서 우회전할 때 횡단 보도를 건너는 사람이 없다면 보행자 신호가 녹색이더라도 진입할 수 있을까요? 이 문제를 놓고 대법원과 경찰의 판단이 다른 상황입니다.\"}, {\"id\": 2, \"title\": \"\\'디지털세대, 아날로그에 빠지다\\'…아날로그 인기 이유는?\", \"content\": \"옛 방식을 고집하는 아날로그 공간들이 젊은 층을 중심으로 주목받고 있습니다.\"}, {\"id\": 3, \"title\": \"저녁 줄였는데 누구는 살 빠지고, 난 안 빠지고…이유는\", \"content\": \"늦은 시간에 야식 먹으면 다 살로 간다고 하죠? 그래서 야식 증후군이란 말까지 생겼습니다. 또 아침은 많이 먹고 저녁은 되도록 적게 먹는 것이 다이어트의 지름길이라고 생각하기도 합니다. 이게 다 얼마나 맞는 말일까요?\"}]'"
      ]
     },
     "execution_count": 49,
     "metadata": {},
     "output_type": "execute_result"
    }
   ],
   "source": [
    "from django.http import JsonResponse\n",
    "\n",
    "response = JsonResponse(data, encoder, safe, json_dumps_parms, **kwargs)\n",
    "\n",
    "print(response)\n",
    "response.content.decode('utf8')"
   ]
  },
  {
   "cell_type": "markdown",
   "metadata": {},
   "source": [
    "### django-rest-framework 스타일 (맛보기)\n",
    "\n",
    "django-rest-framework에서의 JSON 직렬화 코드를 러프하게 살펴본다. 이어지는 코드가 많아보이지만, 실제로 사용될 때에는 코드가 아주 심플하다. 디폴트 세팅된 항목들이 사용되기 때문이다."
   ]
  },
  {
   "cell_type": "code",
   "execution_count": 50,
   "metadata": {},
   "outputs": [],
   "source": [
    "# 변환할 데이터로 QuerySet 준비\n",
    "queryset = Post.objects.all()"
   ]
  },
  {
   "cell_type": "code",
   "execution_count": 51,
   "metadata": {},
   "outputs": [
    {
     "data": {
      "text/plain": [
       "PostModelSerializer(<QuerySet [<Post: 횡단보도 보행자 없으면 우회전 가능?>, <Post: '디지털세대, 아날로그에 빠지다'…아날로그 인기 이유는?>, <Post: 저녁 줄였는데 누구는 살 빠지고, 난 안 빠지고…이유는>]>, many=True):\n",
       "    id = IntegerField(label='ID', read_only=True)\n",
       "    title = CharField(max_length=100)\n",
       "    content = CharField(style={'base_template': 'textarea.html'})\n",
       "    created_at = DateTimeField(read_only=True)\n",
       "    updated_at = DateTimeField(read_only=True)"
      ]
     },
     "execution_count": 51,
     "metadata": {},
     "output_type": "execute_result"
    }
   ],
   "source": [
    "# QuerySet을 통해 ModelSerializer 준비\n",
    "serializer = PostModelSerializer(queryset, many=True)\n",
    "serializer"
   ]
  },
  {
   "cell_type": "code",
   "execution_count": 52,
   "metadata": {},
   "outputs": [
    {
     "data": {
      "text/plain": [
       "[OrderedDict([('id', 1), ('title', '횡단보도 보행자 없으면 우회전 가능?'), ('content', '교차로에서 우회전할 때 횡단 보도를 건너는 사람이 없다면 보행자 신호가 녹색이더라도 진입할 수 있을까요? 이 문제를 놓고 대법원과 경찰의 판단이 다른 상황입니다.'), ('created_at', '2019-11-08T23:10:31.389629'), ('updated_at', '2019-11-08T23:10:31.389656')]), OrderedDict([('id', 2), ('title', \"'디지털세대, 아날로그에 빠지다'…아날로그 인기 이유는?\"), ('content', '옛 방식을 고집하는 아날로그 공간들이 젊은 층을 중심으로 주목받고 있습니다.'), ('created_at', '2019-11-08T23:10:31.390197'), ('updated_at', '2019-11-08T23:10:31.390222')]), OrderedDict([('id', 3), ('title', '저녁 줄였는데 누구는 살 빠지고, 난 안 빠지고…이유는'), ('content', '늦은 시간에 야식 먹으면 다 살로 간다고 하죠? 그래서 야식 증후군이란 말까지 생겼습니다. 또 아침은 많이 먹고 저녁은 되도록 적게 먹는 것이 다이어트의 지름길이라고 생각하기도 합니다. 이게 다 얼마나 맞는 말일까요?'), ('created_at', '2019-11-08T23:10:31.390676'), ('updated_at', '2019-11-08T23:10:31.390709')])]"
      ]
     },
     "execution_count": 52,
     "metadata": {},
     "output_type": "execute_result"
    }
   ],
   "source": [
    "serializer.data"
   ]
  },
  {
   "cell_type": "markdown",
   "metadata": {},
   "source": [
    "뷰에서는 Response를 통해 응답을 생성한다. 이는 HttpResponse를 상속받은 클래스이다. Response는 단순히 JSON 직렬화뿐만 아니라, HTTP요청에 따라 다양한 포맷으로 변환(Render)하여 응답을 생성할 수 있다."
   ]
  },
  {
   "cell_type": "code",
   "execution_count": 53,
   "metadata": {},
   "outputs": [
    {
     "data": {
      "text/plain": [
       "<Response status_code=200, \"text/html; charset=utf-8\">"
      ]
     },
     "execution_count": 53,
     "metadata": {},
     "output_type": "execute_result"
    }
   ],
   "source": [
    "from rest_framework.response import Response\n",
    "\n",
    "response = Response(serializer.data)\n",
    "response"
   ]
  },
  {
   "cell_type": "markdown",
   "metadata": {},
   "source": [
    "Response 객체에 변환에 필요한 속성을 지정해줘야 한다. 실제 요청을 처리하는 코드에서는 APIView 클래스에 의해서 디폴트 지정이 되므로, 대개 수동으로 지정할 일은 없다."
   ]
  },
  {
   "cell_type": "code",
   "execution_count": 56,
   "metadata": {},
   "outputs": [],
   "source": [
    "from rest_framework.views import APIView\n",
    "\n",
    "renderer_cls = APIView.renderer_classes[0]\n",
    "renderer_obj = renderer_cls()\n",
    "response.accepted_renderer = renderer_obj             # JSON 변환을 위한 JSONRenderer 인스턴스\n",
    "\n",
    "response.accepted_media_type = renderer_obj.media_type # application/json\n",
    "response.renderer_context = {'view': None, 'args': (), 'kwargs': {}, 'request': None}"
   ]
  },
  {
   "cell_type": "code",
   "execution_count": 57,
   "metadata": {},
   "outputs": [
    {
     "data": {
      "text/plain": [
       "<Response status_code=200, \"text/html; charset=utf-8\">"
      ]
     },
     "execution_count": 57,
     "metadata": {},
     "output_type": "execute_result"
    }
   ],
   "source": [
    "response"
   ]
  },
  {
   "cell_type": "markdown",
   "metadata": {},
   "source": [
    "response 객체는 아직 변환할 준비만 하고 있을 뿐, 아직 JSON 직렬화 변환은 수행하지 않았다. .rendered_content 속성에 접근할 때, 변환이 이뤄진다."
   ]
  },
  {
   "cell_type": "code",
   "execution_count": 58,
   "metadata": {},
   "outputs": [
    {
     "data": {
      "text/plain": [
       "'[{\"id\":1,\"title\":\"횡단보도 보행자 없으면 우회전 가능?\",\"content\":\"교차로에서 우회전할 때 횡단 보도를 건너는 사람이 없다면 보행자 신호가 녹색이더라도 진입할 수 있을까요? 이 문제를 놓고 대법원과 경찰의 판단이 다른 상황입니다.\",\"created_at\":\"2019-11-08T23:10:31.389629\",\"updated_at\":\"2019-11-08T23:10:31.389656\"},{\"id\":2,\"title\":\"\\'디지털세대, 아날로그에 빠지다\\'…아날로그 인기 이유는?\",\"content\":\"옛 방식을 고집하는 아날로그 공간들이 젊은 층을 중심으로 주목받고 있습니다.\",\"created_at\":\"2019-11-08T23:10:31.390197\",\"updated_at\":\"2019-11-08T23:10:31.390222\"},{\"id\":3,\"title\":\"저녁 줄였는데 누구는 살 빠지고, 난 안 빠지고…이유는\",\"content\":\"늦은 시간에 야식 먹으면 다 살로 간다고 하죠? 그래서 야식 증후군이란 말까지 생겼습니다. 또 아침은 많이 먹고 저녁은 되도록 적게 먹는 것이 다이어트의 지름길이라고 생각하기도 합니다. 이게 다 얼마나 맞는 말일까요?\",\"created_at\":\"2019-11-08T23:10:31.390676\",\"updated_at\":\"2019-11-08T23:10:31.390709\"}]'"
      ]
     },
     "execution_count": 58,
     "metadata": {},
     "output_type": "execute_result"
    }
   ],
   "source": [
    "response.rendered_content.decode('utf8')"
   ]
  },
  {
   "cell_type": "markdown",
   "metadata": {},
   "source": [
    "## 실전에서의 Response 활용\n",
    "\n",
    "위에서는 디테일하게 django-rest-framework 뷰에서의 JSON 직렬화 순서에 대해서 살펴봤는데 실제로는 다음과 같이 간결하게 사용한다."
   ]
  },
  {
   "cell_type": "code",
   "execution_count": 59,
   "metadata": {},
   "outputs": [],
   "source": [
    "from rest_framework import generics\n",
    "\n",
    "class PostListAPIView(generics.ListAPIView):\n",
    "    queryset = Post.objects.all()\n",
    "    serializer_class = PostModelSerializer"
   ]
  },
  {
   "cell_type": "markdown",
   "metadata": {},
   "source": [
    "이렇게 간결하게 정의한 뷰 만으로 다음과 같이 JSON 응답을 만들어낼 수 있다."
   ]
  },
  {
   "cell_type": "code",
   "execution_count": null,
   "metadata": {},
   "outputs": [],
   "source": []
  }
 ],
 "metadata": {
  "kernelspec": {
   "display_name": "Django Shell-Plus",
   "language": "python",
   "name": "django_extensions"
  },
  "language_info": {
   "codemirror_mode": {
    "name": "ipython",
    "version": 3
   },
   "file_extension": ".py",
   "mimetype": "text/x-python",
   "name": "python",
   "nbconvert_exporter": "python",
   "pygments_lexer": "ipython3",
   "version": "3.7.4"
  }
 },
 "nbformat": 4,
 "nbformat_minor": 2
}
